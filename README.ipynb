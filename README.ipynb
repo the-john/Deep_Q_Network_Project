{
 "cells": [
  {
   "cell_type": "markdown",
   "metadata": {},
   "source": [
    "# README for Banana_Navigation_Project.ipynb\n",
    "\n",
    "This is an Environment where a small, first person robot is tasked with cruzing around a \"field of play\" to collect Yellow bananas. The robot collects a point for every Yellow banana it collects. There are also Blue bananas in the \"field of play\", and if the robot hits one of those I loose a point. I will refer to the Robot as an Agent.\n",
    "\n",
    "The \"field of play\" is a State space made of 37 dimensions. With this we can see the Agent's velocity because a 2-dimentional view of whatever the Agent sees in front of it is provided by the Environment.\n",
    "\n",
    "The Environment contains a brain. The brain holds the policy for the Agent. The brain also receives the Observations and the Rewards from the Environment and returns the Actions for the Agent to take. My Python code will interact with the Environment via this brain.\n",
    "\n",
    "There are only four Actions that the Agent can take:\n",
    "\n",
    "- Move forward\n",
    "- Move backward\n",
    "- Turn right\n",
    "- Turn left\n",
    "\n",
    "The Environment is considered \"solved\" once the Agent can acquire an average score of +13 over 100 episodes. I will capture the episode count once that goal is met."
   ]
  },
  {
   "cell_type": "code",
   "execution_count": null,
   "metadata": {},
   "outputs": [],
   "source": []
  }
 ],
 "metadata": {
  "kernelspec": {
   "display_name": "Python 3",
   "language": "python",
   "name": "python3"
  }
 },
 "nbformat": 4,
 "nbformat_minor": 2
}

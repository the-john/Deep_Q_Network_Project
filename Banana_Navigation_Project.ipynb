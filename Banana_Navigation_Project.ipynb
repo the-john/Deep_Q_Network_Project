{
 "cells": [
  {
   "cell_type": "markdown",
   "metadata": {},
   "source": [
    "# Banana Navigation Project\n",
    "___\n",
    "\n",
    "This is my first attempt at creating a Deep Q-Network in Python with PyTorch.\n",
    "\n",
    "Please refer to the README.md file for details.\n",
    "\n",
    "\n",
    "So to begin with, I\n",
    "\n",
    "## Load the necessary packages"
   ]
  },
  {
   "cell_type": "code",
   "execution_count": 1,
   "metadata": {
    "scrolled": true
   },
   "outputs": [
    {
     "name": "stdout",
     "output_type": "stream",
     "text": [
      "\u001b[31mtensorflow 1.7.1 has requirement numpy>=1.13.3, but you'll have numpy 1.12.1 which is incompatible.\u001b[0m\r\n",
      "\u001b[31mipython 6.5.0 has requirement prompt-toolkit<2.0.0,>=1.0.15, but you'll have prompt-toolkit 2.0.9 which is incompatible.\u001b[0m\r\n"
     ]
    }
   ],
   "source": [
    "!pip -q install ./python"
   ]
  },
  {
   "cell_type": "code",
   "execution_count": 2,
   "metadata": {},
   "outputs": [],
   "source": [
    "from unityagents import UnityEnvironment\n",
    "from collections import deque\n",
    "import numpy as np\n",
    "import gym\n",
    "import random\n",
    "import torch\n",
    "import matplotlib.pyplot as plt\n",
    "%matplotlib inline"
   ]
  },
  {
   "cell_type": "markdown",
   "metadata": {},
   "source": [
    "## Instantiate the Environment and the Agent\n",
    "\n",
    "The definition of the Agent is provided in the Python file \"dqn_agent.py\".  This file must reside in the same folder as this Jypeter Notebook (the \"Banana_Navigation_Project.ipynb\" file).  I need to load that file in for use.\n",
    "\n",
    "I am using an Environment provided by (Unity)[https://unity.com/].  The Environment that I am using is called ***Banana***."
   ]
  },
  {
   "cell_type": "code",
   "execution_count": 3,
   "metadata": {},
   "outputs": [
    {
     "name": "stderr",
     "output_type": "stream",
     "text": [
      "INFO:unityagents:\n",
      "'Academy' started successfully!\n",
      "Unity Academy name: Academy\n",
      "        Number of Brains: 1\n",
      "        Number of External Brains : 1\n",
      "        Lesson number : 0\n",
      "        Reset Parameters :\n",
      "\t\t\n",
      "Unity brain name: BananaBrain\n",
      "        Number of Visual Observations (per agent): 0\n",
      "        Vector Observation space type: continuous\n",
      "        Vector Observation space size (per agent): 37\n",
      "        Number of stacked Vector Observation: 1\n",
      "        Vector Action space type: discrete\n",
      "        Vector Action space size (per agent): 4\n",
      "        Vector Action descriptions: , , , \n"
     ]
    }
   ],
   "source": [
    "from dqn_agent import Agent\n",
    "env = UnityEnvironment(file_name=\"/data/Banana_Linux_NoVis/Banana.x86_64\")"
   ]
  },
  {
   "cell_type": "markdown",
   "metadata": {},
   "source": [
    "I grab the first ***brain*** that the Environment makes available and define it as \"brain\"."
   ]
  },
  {
   "cell_type": "code",
   "execution_count": 4,
   "metadata": {},
   "outputs": [],
   "source": [
    "brain_name = env.brain_names[0]\n",
    "brain = env.brains[brain_name]"
   ]
  },
  {
   "cell_type": "markdown",
   "metadata": {},
   "source": [
    "Now I reset the Environment to a known good state and will pull some important parameters (that I'll need later) from the Environment."
   ]
  },
  {
   "cell_type": "code",
   "execution_count": 5,
   "metadata": {},
   "outputs": [
    {
     "name": "stdout",
     "output_type": "stream",
     "text": [
      "State Size =  37\n",
      "Number of actions: 4\n"
     ]
    }
   ],
   "source": [
    "env_info = env.reset(train_mode=True)[brain_name]\n",
    "state = env_info.vector_observations[0]\n",
    "state_size = len(state)\n",
    "print('State Size = ', state_size)\n",
    "action_size = brain.vector_action_space_size\n",
    "print('Number of actions:', action_size)"
   ]
  },
  {
   "cell_type": "markdown",
   "metadata": {},
   "source": [
    "And, finally, I set up my Agent with the data I gathered above."
   ]
  },
  {
   "cell_type": "code",
   "execution_count": 6,
   "metadata": {},
   "outputs": [],
   "source": [
    "agent = Agent(state_size=state_size, action_size=action_size, seed=0)"
   ]
  },
  {
   "cell_type": "markdown",
   "metadata": {},
   "source": [
    "## Train the Agent with the Deep Q-Network"
   ]
  },
  {
   "cell_type": "code",
   "execution_count": 7,
   "metadata": {},
   "outputs": [],
   "source": [
    "def dqn(n_episodes=1000, max_t=1000, eps_start=1.0, eps_end=0.01, eps_decay=0.995, train_mode=True): \n",
    "    \n",
    "    \"\"\"Deep Q-Learning.\n",
    "    \n",
    "    Params\n",
    "    ======\n",
    "        n_episodes (int): maximum number of training episodes\n",
    "        max_t (int): maximum number of timesteps per episode\n",
    "        eps_start (float): starting value of epsilon, for epsilon-greedy action selection\n",
    "        eps_end (float): minimum value of epsilon\n",
    "        eps_decay (float): multiplicative factor (per episode) for decreasing epsilon\n",
    "        train_mode(bool): if 'True' set environment to training mode\n",
    "    \"\"\"\n",
    "\n",
    "    scores = []                                                 # list containing scores from each episode\n",
    "    mov_avg = []                                                # list containing the moving averages\n",
    "    mean_scores = []\n",
    "    mean_score = 0.0\n",
    "    solved = False\n",
    "    scores_window = deque(maxlen=100)                           # last 100 scores\n",
    "    eps = eps_start                                             # initialize epsilon\n",
    "    for i_episode in range(1, n_episodes+1):\n",
    "        env_info = env.reset(train_mode=train_mode)[brain_name] # reset the environment\n",
    "        state = env_info.vector_observations[0]                 # get the current state\n",
    "        score = 0  \n",
    "        \n",
    "        if train_mode:\n",
    "            for t in range(max_t):\n",
    "                action = agent.act(state, eps)                      # get an action\n",
    "                env_info = env.step(action)[brain_name]             # send the action to the environment\n",
    "                next_state = env_info.vector_observations[0]        # get the next state\n",
    "                reward = env_info.rewards[0]                        # get the reward\n",
    "                done = env_info.local_done[0]                       # see if episode has finished\n",
    "                agent.step(state, action, reward, next_state, done) # this is the learning step\n",
    "                score += reward                                     # update the score\n",
    "                state = next_state                                  # roll over the state to next time step         \n",
    "                if done:\n",
    "                    break\n",
    "   \n",
    "            scores_window.append(score)                             # save most recent score\n",
    "            if solved==False:\n",
    "                scores.append(score)                                # save most recent score to the total\n",
    "            average = np.mean(scores_window)                        # calculate the average\n",
    "            if solved==False:\n",
    "                mov_avg.append(average)                             # save the most recent moving average\n",
    "            eps = max(eps_end, eps_decay*eps)                       # decrease epsilon a little\n",
    "            print('\\rEpisode {}\\tAverage Score: {:.2f}'.format(i_episode, np.mean(scores_window)), end=\"\")\n",
    "            if i_episode % 100 == 0:\n",
    "                print('\\rEpisode {}\\tAverage Score: {:.2f}'.format(i_episode, np.mean(scores_window)))\n",
    "            if (np.mean(scores_window) >= 13.0) & (solved==False):\n",
    "                print('\\nEnvironment solved in {:d} episodes!\\tAverage Score: {:.2f}'\n",
    "                      .format(i_episode, np.mean(scores_window)))\n",
    "                solved = True\n",
    "            if (np.mean(scores_window) >= 15.0) & (solved==True):\n",
    "                print('\\nEnvironment solved with BUFFER in {:d} episodes!\\tAverage Score: {:.2f}'\n",
    "                      .format(i_episode, np.mean(scores_window)))           # to ensure that my final plot stays > 13\n",
    "                torch.save(agent.qnetwork_local.state_dict(), 'checkpoint.pth') # save the weights of the trained agent\n",
    "                break  \n",
    "                \n",
    "        if not train_mode:\n",
    "            while True:\n",
    "                action = agent.act(state, eps=0)                    # get an action\n",
    "                env_info = env.step(action)[brain_name]             # send the action to the environment\n",
    "                next_state = env_info.vector_observations[0]        # get the next state\n",
    "                reward = env_info.rewards[0]                        # get the reward\n",
    "                done = env_info.local_done[0]                       # see if episode has finished\n",
    "                score += reward                                     # update the score\n",
    "                state = next_state                                  # roll over the state to next time step             \n",
    "                if done:\n",
    "                    scores.append(score)\n",
    "                    mean_score = np.mean(scores)\n",
    "                    mean_scores.append(mean_score)\n",
    "                    print('\\rEpisode {}\\tAverage Score: {:.2f}'.format(i_episode, mean_score))\n",
    "                    break\n",
    "        \n",
    "    return scores, mov_avg, mean_scores"
   ]
  },
  {
   "cell_type": "markdown",
   "metadata": {},
   "source": [
    "## I Run the Training Loop "
   ]
  },
  {
   "cell_type": "code",
   "execution_count": 8,
   "metadata": {},
   "outputs": [
    {
     "name": "stdout",
     "output_type": "stream",
     "text": [
      "Episode 100\tAverage Score: 1.00\n",
      "Episode 200\tAverage Score: 4.52\n",
      "Episode 300\tAverage Score: 8.26\n",
      "Episode 400\tAverage Score: 9.80\n",
      "Episode 500\tAverage Score: 11.98\n",
      "Episode 572\tAverage Score: 13.00\n",
      "Environment solved in 572 episodes!\tAverage Score: 13.00\n",
      "Episode 600\tAverage Score: 13.07\n",
      "Episode 700\tAverage Score: 14.77\n",
      "Episode 740\tAverage Score: 15.01\n",
      "Environment solved with BUFFER in 740 episodes!\tAverage Score: 15.01\n"
     ]
    }
   ],
   "source": [
    "scores, mov_avg, _ = dqn(n_episodes=1500, max_t=1000, eps_start=1.0, eps_end=0.01, eps_decay=0.995, train_mode=True)"
   ]
  },
  {
   "cell_type": "markdown",
   "metadata": {},
   "source": [
    "## And I Plot the Outcomes"
   ]
  },
  {
   "cell_type": "code",
   "execution_count": 9,
   "metadata": {},
   "outputs": [
    {
     "data": {
      "image/png": "[encoded data removed]",
      "text/plain": [
       "<matplotlib.figure.Figure at 0x7f22bbd64b00>"
      ]
     },
     "metadata": {
      "needs_background": "light"
     },
     "output_type": "display_data"
    }
   ],
   "source": [
    "fig = plt.figure()\n",
    "ax = fig.add_subplot(111)\n",
    "plt.plot(np.arange(len(scores)), scores, c='blue', linewidth=1, label=\"Scores\")\n",
    "plt.plot(np.arange(len(scores)), mov_avg, c='yellow', linewidth=3, label=\"Average\")\n",
    "plt.legend(loc='upper left')\n",
    "plt.margins(x=0.0, y=0.1)\n",
    "plt.ylabel('Score')\n",
    "plt.xlabel('Episode #')\n",
    "plt.show()"
   ]
  },
  {
   "cell_type": "markdown",
   "metadata": {},
   "source": [
    "## Now I go ahead and run the trained Agent"
   ]
  },
  {
   "cell_type": "markdown",
   "metadata": {},
   "source": [
    "Recover the Weights from Trained Agent"
   ]
  },
  {
   "cell_type": "code",
   "execution_count": 10,
   "metadata": {},
   "outputs": [],
   "source": [
    "agent.qnetwork_local.load_state_dict(torch.load('checkpoint.pth'))"
   ]
  },
  {
   "cell_type": "markdown",
   "metadata": {},
   "source": [
    "Run the Trained Agent in the Environment"
   ]
  },
  {
   "cell_type": "code",
   "execution_count": 11,
   "metadata": {},
   "outputs": [
    {
     "name": "stdout",
     "output_type": "stream",
     "text": [
      "Episode 1\tAverage Score: 21.00\n",
      "Episode 2\tAverage Score: 20.00\n",
      "Episode 3\tAverage Score: 17.67\n",
      "Episode 4\tAverage Score: 16.00\n",
      "Episode 5\tAverage Score: 16.00\n",
      "Episode 6\tAverage Score: 16.83\n",
      "Episode 7\tAverage Score: 17.00\n",
      "Episode 8\tAverage Score: 16.12\n",
      "Episode 9\tAverage Score: 16.78\n",
      "Episode 10\tAverage Score: 15.50\n",
      "Episode 11\tAverage Score: 15.45\n",
      "Episode 12\tAverage Score: 15.75\n",
      "Episode 13\tAverage Score: 15.77\n",
      "Episode 14\tAverage Score: 15.36\n",
      "Episode 15\tAverage Score: 15.40\n",
      "Episode 16\tAverage Score: 15.19\n"
     ]
    }
   ],
   "source": [
    "number_of_games = 15\n",
    "_, _, mean_scores = dqn(n_episodes=(number_of_games + 1), train_mode=False)"
   ]
  },
  {
   "cell_type": "markdown",
   "metadata": {},
   "source": [
    "Because I'm in the Udacity Workspace, I'm unable to actually see the play.\n",
    "So, I'll plot the scores over a span of fifteen games."
   ]
  },
  {
   "cell_type": "code",
   "execution_count": 12,
   "metadata": {},
   "outputs": [
    {
     "data": {
      "image/png": "[encoded data removed]",
      "text/plain": [
       "<matplotlib.figure.Figure at 0x7f2323c49898>"
      ]
     },
     "metadata": {
      "needs_background": "light"
     },
     "output_type": "display_data"
    }
   ],
   "source": [
    "fig = plt.figure()\n",
    "ax = fig.add_subplot(111)\n",
    "plt.plot(np.arange(len(mean_scores)), mean_scores, c='green', linewidth=3, label=\"Mean Score\")\n",
    "plt.ylim(bottom=0)\n",
    "plt.axhline(y=13, c='red', linestyle='--', label=\"Required Score\")\n",
    "plt.legend(loc='lower right')\n",
    "plt.margins(x=0.0, y=1.0)\n",
    "plt.ylabel('Score')\n",
    "plt.xlabel('Episode #')\n",
    "plt.show()"
   ]
  },
  {
   "cell_type": "markdown",
   "metadata": {},
   "source": [
    "When finished, I close the Environment"
   ]
  },
  {
   "cell_type": "code",
   "execution_count": 13,
   "metadata": {},
   "outputs": [],
   "source": [
    "env.close()"
   ]
  }
 ],
 "metadata": {
  "kernelspec": {
   "display_name": "Python 3",
   "language": "python",
   "name": "python3"
  },
  "language_info": {
   "codemirror_mode": {
    "name": "ipython",
    "version": 3
   },
   "file_extension": ".py",
   "mimetype": "text/x-python",
   "name": "python",
   "nbconvert_exporter": "python",
   "pygments_lexer": "ipython3",
   "version": "3.6.3"
  }
 },
 "nbformat": 4,
 "nbformat_minor": 2
}
